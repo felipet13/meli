{
 "cells": [
  {
   "cell_type": "code",
   "execution_count": null,
   "id": "69a4a7d8",
   "metadata": {
    "tags": [
     "hide-input"
    ]
   },
   "outputs": [],
   "source": [
    "import sys\n",
    "\n",
    "sys.path.insert(0, \"../\")\n",
    "sys.path.insert(0, \"packages\")"
   ]
  },
  {
   "cell_type": "code",
   "execution_count": null,
   "id": "efeb9919",
   "metadata": {
    "tags": [
     "hide-input"
    ]
   },
   "outputs": [],
   "source": [
    "import os\n",
    "\n",
    "if os.environ.get(\"CIRCLECI\"):\n",
    "    default_env = os.environ.get(\"CONDA_DEFAULT_ENV\")\n",
    "    os.environ[\"PYSPARK_DRIVER_PYTHON\"] = (\n",
    "        f\"/home/circleci/miniconda/envs/{default_env}/bin/python\"\n",
    "    )\n",
    "    os.environ[\"PYSPARK_PYTHON\"] = (\n",
    "        f\"/home/circleci/miniconda/envs/{default_env}/bin/python\"\n",
    "    )"
   ]
  },
  {
   "cell_type": "markdown",
   "id": "5e153fc1",
   "metadata": {},
   "source": [
    "# Flags\n",
    "\n",
    "This section outlines how to use the `flags` submodule.\n",
    "\n",
    "If you have already seen the `tags` module, you will notice that they are similar.\n",
    "Historically, the `flag` module was developed first. However, under certain circumstances,\n",
    "the run time performance of `flags` takes a significant hit, when the `tags` module does\n",
    "not. The reason is that `flags` manifest as columns for each `flag`, where as all `tags`\n",
    "are stored in a single array column.\n",
    "\n",
    "Imagine carrying around a dataframe with 3000 columns,\n",
    "or a single array column. Which do you think would be more efficient to carry around?\n",
    "As it turns out, when translating unit of analysis (i.e. translating from event level to\n",
    "day level), performing a `collect_set` on a single column is much more performant than\n",
    "a `groupby.agg` on 3000 columns.\n",
    "\n",
    "This raises the question? Should we always use `tags` then? Unfortunately this is to be\n",
    "determined on a case-by-case basis. Sometimes, it's much easier to go with flags as it is\n",
    "the more direct path. Other times (big data), it might be more performant to go with `tags`\n",
    "and accept the increased complexity. Ultimately, it is about trade-offs and so we have\n",
    "decided to maintain both.\n",
    "\n",
    "## Available Functions\n",
    "This section gives the details of node function and parameter names which can be used\n",
    "while creating flags.\n",
    "\n",
    "\n",
    "Below are the entry point functions:\n",
    "```text\n",
    "+-----------------------------------------+------------------------------------------------------------------------------------------------------------------------------------------------------------------------+\n",
    "| Function to create features             | Description                                                              | Function path                                                                               |\n",
    "+-----------------------------------------+------------------------------------------------------------------------------------------------------------------------------------------------------------------------+\n",
    "| `create_columns_from_config`            | Creates basic, derived and custom features                               | pmpx_pkg/utilities/feature_generation/v1/nodes/features/create_column.py                    |\n",
    "+-----------------------------------------+---------------------------------------------------+--------------------------------------------------------------------------------------------------------------------+\n",
    "```\n",
    "\n",
    "Below are the available flag functions within the `flags` module:"
   ]
  },
  {
   "cell_type": "code",
   "execution_count": null,
   "id": "81fdbbb9",
   "metadata": {
    "tags": [
     "hide-input"
    ]
   },
   "outputs": [],
   "source": [
    "from feature_generation.v1.core.features import flags\n",
    "from types import FunctionType\n",
    "\n",
    "list_of_flags = [\n",
    "    x\n",
    "    for x in dir(flags)\n",
    "    if isinstance(getattr(flags, x), FunctionType) and not x.startswith(\"_\")\n",
    "]"
   ]
  },
  {
   "cell_type": "code",
   "execution_count": null,
   "id": "df0f3d7e",
   "metadata": {
    "tags": [
     "hide-input"
    ]
   },
   "outputs": [],
   "source": [
    "from tabulate import tabulate\n",
    "\n",
    "rows = []\n",
    "for x in list_of_flags:\n",
    "    x_doc = getattr(flags, x).__doc__.split(\"\\n\")[0]\n",
    "    rows.append({\"function\": x, \"description\": x_doc})\n",
    "\n",
    "import pandas as pd\n",
    "\n",
    "table = pd.DataFrame(rows)\n",
    "print(tabulate(table, headers=table.columns, tablefmt=\"psql\"))"
   ]
  },
  {
   "cell_type": "markdown",
   "id": "25056ea8",
   "metadata": {},
   "source": [
    "Each function will have an example of usage in both core API and node API. Core API\n",
    "generally refers to calling the function in code, while node API generally refers to\n",
    "calling a function based on parameters.\n",
    "\n",
    "Note: The functions mentioned below can be used to create features either on `tags`\n",
    "that have been converted to columns or base columns of a dataframe.\n",
    "\n",
    "The `create_columns_from_config` function can be considered as the base or entry function which\n",
    "takes an input config to create both base/derived features. This function creates\n",
    "a new column/feature for every entry in the config.\n",
    "\n",
    "This function is flexible and allows the users to choose how the feature is built.\n",
    "One can choose from:\n",
    "\n",
    "1. `built-in` functions\n",
    "2. any utils available in `feature_generation` utility\n",
    "3. a custom function to apply on the input column(s).\n",
    "\n",
    "\n",
    "\n",
    "## Flags\n",
    "\n",
    "The concept of creating flags is to help identify whether a condition is true.\n",
    "Flag columns take only 2 values one for true and the other false. Generally represented\n",
    "as a boolean `0` or `1`.\n",
    "\n",
    "The module is called `flags` because it was first created within the Real World Evidence\n",
    "space where there was a lot of flags created based on diagnosis codes, drug codes and so on.\n",
    "It was later extended to also be able to contain continuous numbers instead of just a\n",
    "1 or 0.\n",
    "\n",
    "Flags can be created using the `create_column_from_config` from before, based on a\n",
    "config(dictionary/yaml).\n",
    "Usually when creating flags for features, a lot of ``IF...ELSE`` or\n",
    "``CASE WHEN`` are needed. By providing a config, this reduces the need for\n",
    "massive ``IF...ELSE`` statements, and with the added benefit that a non-technical\n",
    "person can verify the values corresponding to a certain flag. Several default functions are\n",
    "provided (``rlike``, ``isin``, and ``rlike_extract``), or the user is free to\n",
    "provide their own flag function.\n",
    "\n",
    "\n",
    "Throughout this section, we will be using the following sample dataframe:"
   ]
  },
  {
   "cell_type": "code",
   "execution_count": null,
   "id": "adbb0a8b",
   "metadata": {
    "tags": [
     "hide-input",
     "hide-output"
    ]
   },
   "outputs": [],
   "source": [
    "from pyspark.sql import SparkSession\n",
    "from pyspark.sql.types import (\n",
    "    ArrayType,\n",
    "    IntegerType,\n",
    "    StringType,\n",
    "    StructField,\n",
    "    StructType,\n",
    ")\n",
    "\n",
    "\n",
    "spark = (\n",
    "    SparkSession.builder.config(\"spark.sql.shuffle.partitions\", 1)\n",
    "    .config(\"spark.ui.showConsoleProgress\", False)\n",
    "    .getOrCreate()\n",
    ")\n",
    "schema = StructType(\n",
    "    [\n",
    "        StructField(\"name\", StringType(), True),\n",
    "        StructField(\"age\", IntegerType(), True),\n",
    "        StructField(\"gender\", StringType(), True),\n",
    "        StructField(\"occupation\", StringType(), True),\n",
    "        StructField(\"house\", ArrayType(StringType()), True),\n",
    "        StructField(\"number\", ArrayType(IntegerType()), True),\n",
    "    ]\n",
    ")\n",
    "data = [\n",
    "    (\"Gendry\", 31, \"male\", \"Data Engineer\", [\"House Baratheon\"], [1, 2, 3]),\n",
    "    (\"Jaime\", 12, \"male\", \"Data Scientist\", [\"House Lannister\"], [2, 3, 4]),\n",
    "    (\"Tyrion\", 65, \"m\", \"Data Analyst\", [\"House Lannister\", \"House Stark\"], [3, 4, 5]),\n",
    "    (\"Cersei\", 40, \"female\", \"Engagement Manager\", [\"House Lannister\"], [5, 6, 7]),\n",
    "    (\n",
    "        \"Jon\",\n",
    "        31,\n",
    "        \"male\",\n",
    "        \"Software Engineer\",\n",
    "        [\"House Targaryen\", \"House Stark\"],\n",
    "        [6, 7, 8],\n",
    "    ),\n",
    "    (\"Arya\", 27, \"f\", \"MLE\", [\"House Stark\"], [7, 8, 9]),\n",
    "    (\n",
    "        \"Sansa\",\n",
    "        26,\n",
    "        \"f\",\n",
    "        \"daata translator\",\n",
    "        [\"House Stark\", \"House Lannister\"],\n",
    "        [8, 9, 10],\n",
    "    ),\n",
    "    (\"Daenerys\", 25, \"female\", \"Mother of Dragons\", [\"House Targaryen\"], [9, 11, 13]),\n",
    "]\n",
    "\n",
    "df_sample = spark.createDataFrame(data, schema)"
   ]
  },
  {
   "cell_type": "code",
   "execution_count": null,
   "id": "a05b829e",
   "metadata": {},
   "outputs": [],
   "source": [
    "df_sample.show()"
   ]
  },
  {
   "cell_type": "markdown",
   "id": "cbc101c6",
   "metadata": {},
   "source": [
    "### `isin`\n",
    "This generates a column if any of the list values is found in the column. This flag\n",
    "function can be used for creating fundamental and derived features.\n",
    "\n",
    "Code example below:"
   ]
  },
  {
   "cell_type": "code",
   "execution_count": null,
   "id": "8e9db710",
   "metadata": {},
   "outputs": [],
   "source": [
    "from feature_generation.v1.core.features.create_column import create_columns_from_config\n",
    "from feature_generation.v1.core.features.flags import isin\n",
    "\n",
    "isin_code_config = [\n",
    "    isin(input=\"gender\", values=[\"m\", \"male\"], output=\"gender_is_male\"),\n",
    "    isin(input=\"gender\", values=[\"f\", \"female\"], output=\"gender_is_female\"),\n",
    "]\n",
    "\n",
    "df_isin_code = create_columns_from_config(df_sample, isin_code_config)\n",
    "\n",
    "df_isin_code.show()"
   ]
  },
  {
   "cell_type": "markdown",
   "id": "def85952",
   "metadata": {},
   "source": [
    "Node example below:"
   ]
  },
  {
   "cell_type": "code",
   "execution_count": null,
   "id": "edb2131b",
   "metadata": {},
   "outputs": [],
   "source": [
    "from feature_generation.v1.nodes.features.create_column import (\n",
    "    create_columns_from_config,\n",
    ")\n",
    "\n",
    "isin_config = [\n",
    "    {\n",
    "        \"object\": \"feature_generation.v1.core.features.flags.isin\",\n",
    "        \"output\": \"gender_is_male\",\n",
    "        \"input\": \"gender\",\n",
    "        \"values\": [\"m\", \"male\"],\n",
    "    },\n",
    "    {\n",
    "        \"object\": \"feature_generation.v1.core.features.flags.isin\",\n",
    "        \"output\": \"gender_is_female\",\n",
    "        \"input\": \"gender\",\n",
    "        \"values\": [\"f\", \"female\"],\n",
    "    },\n",
    "]\n",
    "\n",
    "df_isin = create_columns_from_config(df_sample, isin_config)\n",
    "\n",
    "df_isin.show()"
   ]
  },
  {
   "cell_type": "markdown",
   "id": "17f11e12",
   "metadata": {},
   "source": [
    "Notice the different import paths.\n",
    "\n",
    "### `rlike`\n",
    "This generates a flag feaure if the regex pattern can be found in the column.\n",
    "This function can be used for creating basic and derived features.\n",
    "\n",
    "Core example below:"
   ]
  },
  {
   "cell_type": "code",
   "execution_count": null,
   "id": "9b4c21b5",
   "metadata": {},
   "outputs": [],
   "source": [
    "from feature_generation.v1.core.features.create_column import create_columns_from_config\n",
    "from feature_generation.v1.core.features.flags import rlike\n",
    "\n",
    "rlike_code_config = [\n",
    "    rlike(input=\"occupation\", values=[\"Data\", \"daata\"], output=\"is_data_job\")\n",
    "]\n",
    "\n",
    "df_rlike_code = create_columns_from_config(df_sample, rlike_code_config)\n",
    "\n",
    "df_rlike_code.show()"
   ]
  },
  {
   "cell_type": "markdown",
   "id": "6391fd2a",
   "metadata": {},
   "source": [
    "Node example below:"
   ]
  },
  {
   "cell_type": "code",
   "execution_count": null,
   "id": "42b6eb46",
   "metadata": {},
   "outputs": [],
   "source": [
    "from feature_generation.v1.nodes.features.create_column import (\n",
    "    create_columns_from_config,\n",
    ")\n",
    "\n",
    "rlike_config = [\n",
    "    {\n",
    "        \"object\": \"feature_generation.v1.core.features.flags.rlike\",\n",
    "        \"output\": \"is_data_job\",\n",
    "        \"input\": \"occupation\",\n",
    "        \"values\": [\"Data\", \"daata\"],\n",
    "    },\n",
    "]\n",
    "\n",
    "df_rlike = create_columns_from_config(df_sample, rlike_config)\n",
    "\n",
    "df_rlike.show()"
   ]
  },
  {
   "cell_type": "markdown",
   "id": "965d1a58",
   "metadata": {},
   "source": [
    "### `arrays_overlap`\n",
    "This generates a flag column if any element in the list can be found in the array.\n",
    "This function can be used for creating basic and derived features.\n",
    "\n",
    "\n",
    "Core example below:"
   ]
  },
  {
   "cell_type": "code",
   "execution_count": null,
   "id": "bc848a9f",
   "metadata": {},
   "outputs": [],
   "source": [
    "from feature_generation.v1.core.features.create_column import create_columns_from_config\n",
    "from feature_generation.v1.core.features.flags import arrays_overlap\n",
    "\n",
    "arrays_overlap_code_config = [\n",
    "    arrays_overlap(input=\"number\", values=[2, 4, 6, 8, 10], output=\"even_numbers\")\n",
    "]\n",
    "\n",
    "df_arrays_overlap_code = create_columns_from_config(\n",
    "    df_sample, arrays_overlap_code_config\n",
    ")\n",
    "\n",
    "df_arrays_overlap_code.show()"
   ]
  },
  {
   "cell_type": "markdown",
   "id": "8f65ccb3",
   "metadata": {},
   "source": [
    "Node example below:"
   ]
  },
  {
   "cell_type": "code",
   "execution_count": null,
   "id": "ea1e8bf3",
   "metadata": {},
   "outputs": [],
   "source": [
    "from feature_generation.v1.nodes.features.create_column import (\n",
    "    create_columns_from_config,\n",
    ")\n",
    "\n",
    "arrays_overlap_config = [\n",
    "    {\n",
    "        \"object\": \"feature_generation.v1.core.features.flags.arrays_overlap\",\n",
    "        \"output\": \"even_numbers\",\n",
    "        \"input\": \"number\",\n",
    "        \"values\": [2, 4, 6, 8, 10],\n",
    "    },\n",
    "]\n",
    "\n",
    "df_arrays_overlap = create_columns_from_config(df_sample, arrays_overlap_config)\n",
    "\n",
    "df_arrays_overlap.show()"
   ]
  },
  {
   "cell_type": "markdown",
   "id": "e6769395",
   "metadata": {},
   "source": [
    "### `rlike_extract`\n",
    "This generates 2 columns:\n",
    "1. a flag column if the if the regex pattern can be found in the column.\n",
    "2. column containing regex matched word from string in column\n",
    "This function can be used for creating basic and derived features.\n",
    "\n",
    "Core example below:"
   ]
  },
  {
   "cell_type": "code",
   "execution_count": null,
   "id": "f4cad033",
   "metadata": {},
   "outputs": [],
   "source": [
    "from feature_generation.v1.core.features.create_column import create_columns_from_config\n",
    "from feature_generation.v1.core.features.flags import rlike_extract\n",
    "\n",
    "rlike_extract_code_config = [\n",
    "    rlike_extract(\n",
    "        input=\"gender\", values=[\"female\"], output=\"is_female\", suffix=\"_match\"\n",
    "    )\n",
    "]\n",
    "\n",
    "df_rlike_extract_code = create_columns_from_config(df_sample, rlike_extract_code_config)\n",
    "\n",
    "df_rlike_extract_code.show()"
   ]
  },
  {
   "cell_type": "markdown",
   "id": "847b8018",
   "metadata": {},
   "source": [
    "Node example below:"
   ]
  },
  {
   "cell_type": "code",
   "execution_count": null,
   "id": "da607804",
   "metadata": {},
   "outputs": [],
   "source": [
    "from feature_generation.v1.nodes.features.create_column import (\n",
    "    create_columns_from_config,\n",
    ")\n",
    "\n",
    "rlike_extract_config = [\n",
    "    {\n",
    "        \"object\": \"feature_generation.v1.core.features.flags.rlike_extract\",\n",
    "        \"output\": \"is_female\",\n",
    "        \"input\": \"gender\",\n",
    "        \"values\": [\"female\"],\n",
    "        \"suffix\": \"_match\",\n",
    "    },\n",
    "]\n",
    "\n",
    "df_rlike_extract = create_columns_from_config(df_sample, rlike_extract_config)\n",
    "\n",
    "df_rlike_extract.show()"
   ]
  },
  {
   "cell_type": "markdown",
   "id": "d9d6b123",
   "metadata": {},
   "source": [
    "### `regexp_extract`\n",
    "Column containing regex matched word from string in column\n",
    "This function can be used for creating basic and derived features.\n",
    "\n",
    "Core example below:"
   ]
  },
  {
   "cell_type": "code",
   "execution_count": null,
   "id": "163e9ae8",
   "metadata": {},
   "outputs": [],
   "source": [
    "from feature_generation.v1.core.features.create_column import create_columns_from_config\n",
    "from feature_generation.v1.core.features.flags import regexp_extract\n",
    "\n",
    "regexp_extract_code_config = [\n",
    "    regexp_extract(input=\"name\", values=[\".*e.*\"], output=\"name_contains_e\")\n",
    "]\n",
    "\n",
    "df_regexp_extract_code = create_columns_from_config(\n",
    "    df_sample, regexp_extract_code_config\n",
    ")\n",
    "\n",
    "df_regexp_extract_code.show()"
   ]
  },
  {
   "cell_type": "markdown",
   "id": "b975f2ed",
   "metadata": {},
   "source": [
    "Node example below:"
   ]
  },
  {
   "cell_type": "code",
   "execution_count": null,
   "id": "eaae9b7f",
   "metadata": {},
   "outputs": [],
   "source": [
    "from feature_generation.v1.nodes.features.create_column import (\n",
    "    create_columns_from_config,\n",
    ")\n",
    "\n",
    "regexp_extract_config = [\n",
    "    {\n",
    "        \"object\": \"feature_generation.v1.core.features.flags.regexp_extract\",\n",
    "        \"output\": \"name_contains_e\",\n",
    "        \"input\": \"name\",\n",
    "        \"values\": [\".*e.*\"],\n",
    "    },\n",
    "]\n",
    "\n",
    "df_regexp_extract = create_columns_from_config(df_sample, regexp_extract_config)\n",
    "\n",
    "df_regexp_extract.show()"
   ]
  },
  {
   "cell_type": "markdown",
   "id": "afe4179d",
   "metadata": {},
   "source": [
    "### `expr_flag`\n",
    "Wrapper for the `f.expr` function.\n",
    "This function can be used for creating basic and derived features.\n",
    "\n",
    "Core example below:"
   ]
  },
  {
   "cell_type": "code",
   "execution_count": null,
   "id": "e3250fcb",
   "metadata": {},
   "outputs": [],
   "source": [
    "from feature_generation.v1.core.features.create_column import create_columns_from_config\n",
    "from feature_generation.v1.core.features.flags import expr_flag\n",
    "\n",
    "expr_flag_code_config = [expr_flag(expr=\"age < 30\", output=\"age_lt_30\")]\n",
    "\n",
    "df_expr_flag_code = create_columns_from_config(df_sample, expr_flag_code_config)\n",
    "\n",
    "df_expr_flag_code.show()"
   ]
  },
  {
   "cell_type": "markdown",
   "id": "272d8def",
   "metadata": {},
   "source": [
    "Node example below:"
   ]
  },
  {
   "cell_type": "code",
   "execution_count": null,
   "id": "3a09837a",
   "metadata": {},
   "outputs": [],
   "source": [
    "from feature_generation.v1.nodes.features.create_column import (\n",
    "    create_columns_from_config,\n",
    ")\n",
    "\n",
    "expr_flag_config = [\n",
    "    {\n",
    "        \"object\": \"feature_generation.v1.core.features.flags.expr_flag\",\n",
    "        \"output\": \"age_lt_30\",\n",
    "        \"expr\": \"age < 3\",\n",
    "    },\n",
    "]\n",
    "\n",
    "df_expr_flag = create_columns_from_config(df_sample, expr_flag_config)\n",
    "\n",
    "df_expr_flag.show()"
   ]
  }
 ],
 "metadata": {
  "kernelspec": {
   "display_name": "Python 3",
   "language": "python",
   "name": "python3"
  }
 },
 "nbformat": 4,
 "nbformat_minor": 5
}

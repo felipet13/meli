{
 "cells": [
  {
   "cell_type": "code",
   "execution_count": null,
   "id": "66986f3e",
   "metadata": {
    "tags": [
     "hide-input"
    ]
   },
   "outputs": [],
   "source": [
    "import sys\n",
    "\n",
    "sys.path.insert(0, \"../\")\n",
    "sys.path.insert(0, \"packages\")"
   ]
  },
  {
   "cell_type": "code",
   "execution_count": null,
   "id": "27770aee",
   "metadata": {
    "tags": [
     "hide-input"
    ]
   },
   "outputs": [],
   "source": [
    "import os\n",
    "\n",
    "if os.environ.get(\"CIRCLECI\"):\n",
    "    default_env = os.environ.get(\"CONDA_DEFAULT_ENV\")\n",
    "    os.environ[\"PYSPARK_DRIVER_PYTHON\"] = (\n",
    "        f\"/home/circleci/miniconda/envs/{default_env}/bin/python\"\n",
    "    )\n",
    "    os.environ[\"PYSPARK_PYTHON\"] = (\n",
    "        f\"/home/circleci/miniconda/envs/{default_env}/bin/python\"\n",
    "    )"
   ]
  },
  {
   "cell_type": "markdown",
   "id": "a931fc76",
   "metadata": {},
   "source": [
    "# Utils\n",
    "\n",
    "This section outlines some of the additional utilities available within the module.\n",
    "Compared to the rest of the module, these are smaller functions more commonly used\n",
    "during the data ingestion process."
   ]
  },
  {
   "cell_type": "code",
   "execution_count": null,
   "id": "f58708ed",
   "metadata": {
    "tags": [
     "hide-input"
    ]
   },
   "outputs": [],
   "source": [
    "from feature_generation.v1.core import utils\n",
    "import pkgutil\n",
    "\n",
    "\n",
    "pkgname = utils.__name__\n",
    "pkgpath = utils.__path__[0]\n",
    "found_packages = list(pkgutil.iter_modules([pkgpath], prefix=\"{}.\".format(pkgname)))\n",
    "sub_packages = [x.split(\".\")[-1] for _, x, _ in found_packages]\n",
    "\n",
    "importer = found_packages[0][0]\n",
    "\n",
    "rows = []\n",
    "for idx, _name in enumerate(sub_packages):\n",
    "    module_spec = importer.find_spec(found_packages[idx][1])\n",
    "    module = module_spec.loader.load_module(found_packages[idx][1])\n",
    "    x_doc = module.__doc__.split(\"\\n\")[0]\n",
    "    rows.append({\"sub_module\": module.__name__, \"description\": x_doc})\n",
    "\n",
    "from tabulate import tabulate\n",
    "import pandas as pd\n",
    "\n",
    "table = pd.DataFrame(rows)\n",
    "print(tabulate(table, headers=table.columns, tablefmt=\"psql\"))"
   ]
  },
  {
   "cell_type": "markdown",
   "id": "64c624ac",
   "metadata": {},
   "source": [
    "## Summary of Functions\n",
    "\n",
    "Below is a summary of the available functions within the sub-modules:"
   ]
  },
  {
   "cell_type": "code",
   "execution_count": null,
   "id": "4d876f3c",
   "metadata": {
    "tags": [
     "hide-input"
    ]
   },
   "outputs": [],
   "source": [
    "from types import FunctionType\n",
    "\n",
    "\n",
    "func_row = []\n",
    "for idx, _name in enumerate(sub_packages):\n",
    "    module_spec = importer.find_spec(found_packages[idx][1])\n",
    "    module = module_spec.loader.load_module(found_packages[idx][1])\n",
    "\n",
    "    list_of_tags = [\n",
    "        x\n",
    "        for x in dir(module)\n",
    "        if isinstance(getattr(module, x), FunctionType) and not x.startswith(\"_\")\n",
    "    ]\n",
    "\n",
    "    from tabulate import tabulate\n",
    "\n",
    "    for x in list_of_tags:\n",
    "        x_doc = getattr(module, x).__doc__.split(\"\\n\")[0]\n",
    "        func_row.append(\n",
    "            {\"sub_module\": module.__name__, \"function\": x, \"description\": x_doc}\n",
    "        )\n",
    "\n",
    "import pandas as pd\n",
    "\n",
    "table = pd.DataFrame(func_row)\n",
    "print(tabulate(table, headers=table.columns, tablefmt=\"psql\"))"
   ]
  }
 ],
 "metadata": {
  "kernelspec": {
   "display_name": "Python 3",
   "language": "python",
   "name": "python3"
  }
 },
 "nbformat": 4,
 "nbformat_minor": 5
}

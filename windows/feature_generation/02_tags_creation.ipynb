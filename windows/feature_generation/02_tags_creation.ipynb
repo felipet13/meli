{
 "cells": [
  {
   "cell_type": "code",
   "execution_count": null,
   "id": "8e321b06",
   "metadata": {
    "tags": [
     "hide-input"
    ]
   },
   "outputs": [],
   "source": [
    "import sys\n",
    "\n",
    "sys.path.insert(0, \"../\")\n",
    "sys.path.insert(0, \"packages\")"
   ]
  },
  {
   "cell_type": "code",
   "execution_count": null,
   "id": "3aa3b1ec",
   "metadata": {
    "tags": [
     "hide-input"
    ]
   },
   "outputs": [],
   "source": [
    "import os\n",
    "\n",
    "if os.environ.get(\"CIRCLECI\"):\n",
    "    default_env = os.environ.get(\"CONDA_DEFAULT_ENV\")\n",
    "    os.environ[\"PYSPARK_DRIVER_PYTHON\"] = (\n",
    "        f\"/home/circleci/miniconda/envs/{default_env}/bin/python\"\n",
    "    )\n",
    "    os.environ[\"PYSPARK_PYTHON\"] = (\n",
    "        f\"/home/circleci/miniconda/envs/{default_env}/bin/python\"\n",
    "    )"
   ]
  },
  {
   "cell_type": "markdown",
   "id": "06c6ffa6",
   "metadata": {},
   "source": [
    "# Tags\n",
    "\n",
    "The tags sub-module is a central component of the `feature_generation` module. Think of a\n",
    "tag as generating metadata on top of the data, very much like a hashtag. The process is\n",
    "almost like going through and defining tags whenever we see certain keywords or conditions\n",
    "in the data.\n",
    "\n",
    "While tags can be used to create derived features, they should mainly be used to create\n",
    "base features.\n",
    "\n",
    "## Creating Tags\n",
    "\n",
    "Below are the 3 main node functions you can use to generate tags:"
   ]
  },
  {
   "cell_type": "code",
   "execution_count": null,
   "id": "aa521a25",
   "metadata": {},
   "outputs": [],
   "source": [
    "from feature_generation.v1.nodes.tags.generate_tags import (\n",
    "    create_tags_from_config,\n",
    "    create_tags_from_config_broadcast,  # noqa: F401\n",
    "    create_tags_from_config_select,\n",
    ")"
   ]
  },
  {
   "cell_type": "markdown",
   "id": "470fee9c",
   "metadata": {},
   "source": [
    "The main difference between broadcast and select tags is if the tag creation depends\n",
    "only on one column then it creates tags using `broadcast` function otherwise\n",
    "it creates tags using `select` function. The broadcast method has shown to reduce\n",
    "run time from several hours to order of 10s of minutes in big data (TBs scale), but\n",
    "will only work for certain tag functions. We decided to blend them to make the experience\n",
    "more seemless and try to auto-infer which tags can be created using `broadcast` and which\n",
    "cannot.\n",
    "\n",
    "## Deep Dive on Broadcast\n",
    "This section roughly outlines how the broadcast method works.\n",
    "\n",
    "Imagine if you have a 1 billion row dataset, but within the column there's only 100k\n",
    "unique values. The simple approach is to compute for all 1 billion rows. As it turns out,\n",
    "this is not the most efficient way.\n",
    "\n",
    "If you collect the 100k unique values into a smaller dataframe, compute on the 100k only,\n",
    "then broadcast join back to the full 1 billion rows, despite having more steps, this\n",
    "process is significantly faster then doing a brute force compute on 1 billion rows.\n",
    "The efficacy of this method depends on the ratio of rows to unique values.\n",
    "\n",
    "On several engagements (different data, different infrastructure), the run time of\n",
    "generating tags was in the order of several hours using the brute force method, but\n",
    "took only in the order of ~10 minutes to compute using the broadcast method. Note that\n",
    "the broadcast method can only be used to generate certain types of features.\n",
    "\n",
    "## Available Tag Functions\n",
    "Below are the available tag functions within the tags module:"
   ]
  },
  {
   "cell_type": "code",
   "execution_count": null,
   "id": "f82dffc7",
   "metadata": {
    "tags": [
     "hide-input"
    ]
   },
   "outputs": [],
   "source": [
    "from feature_generation.v1.core.tags import tags\n",
    "from types import FunctionType\n",
    "\n",
    "list_of_tags = [\n",
    "    x\n",
    "    for x in dir(tags)\n",
    "    if isinstance(getattr(tags, x), FunctionType) and not x.startswith(\"_\")\n",
    "]"
   ]
  },
  {
   "cell_type": "code",
   "execution_count": null,
   "id": "87a4d03b",
   "metadata": {
    "tags": [
     "hide-input"
    ]
   },
   "outputs": [],
   "source": [
    "from tabulate import tabulate\n",
    "\n",
    "rows = []\n",
    "for x in list_of_tags:\n",
    "    x_doc = getattr(tags, x).__doc__.split(\"\\n\")[0]\n",
    "    rows.append({\"function\": x, \"description\": x_doc})\n",
    "\n",
    "import pandas as pd\n",
    "\n",
    "table = pd.DataFrame(rows)\n",
    "print(tabulate(table, headers=table.columns, tablefmt=\"psql\"))"
   ]
  },
  {
   "cell_type": "markdown",
   "id": "e1fbfb26",
   "metadata": {},
   "source": [
    "Not all tag functions are demonstrated in this document, so do check out the source\n",
    "and docstrings for more information."
   ]
  },
  {
   "cell_type": "code",
   "execution_count": null,
   "id": "50a648d9",
   "metadata": {
    "tags": [
     "hide-input",
     "hide-output"
    ]
   },
   "outputs": [],
   "source": [
    "import yaml\n",
    "from pyspark.sql import SparkSession\n",
    "from pyspark.sql.types import (\n",
    "    ArrayType,\n",
    "    DoubleType,\n",
    "    IntegerType,\n",
    "    StringType,\n",
    "    StructField,\n",
    "    StructType,\n",
    ")\n",
    "\n",
    "\n",
    "from feature_generation.v1.nodes.tags.generate_tags import create_tags_from_config\n",
    "\n",
    "spark = (\n",
    "    SparkSession.builder.config(\"spark.ui.showConsoleProgress\", False)\n",
    "    .config(\"spark.sql.shuffle.partitions\", 1)\n",
    "    .getOrCreate()\n",
    ")\n",
    "\n",
    "schema = StructType(\n",
    "    [\n",
    "        StructField(\"name\", StringType(), True),\n",
    "        StructField(\"age\", IntegerType(), True),\n",
    "        StructField(\"gender\", StringType(), True),\n",
    "        StructField(\"occupation\", StringType(), True),\n",
    "        StructField(\"house\", ArrayType(StringType()), True),\n",
    "        StructField(\"number\", ArrayType(IntegerType()), True),\n",
    "    ]\n",
    ")\n",
    "data = [\n",
    "    (\"Gendry\", 31, \"male\", \"Data Engineer\", [\"House Baratheon\"], [1, 2, 3]),\n",
    "    (\"Jaime\", 12, \"male\", \"Data Scientist\", [\"House Lannister\"], [2, 3, 4]),\n",
    "    (\"Tyrion\", 65, \"m\", \"Data Analyst\", [\"House Lannister\", \"House Stark\"], [3, 4, 5]),\n",
    "    (\"Cersei\", 29, \"female\", \"Engagement Manager\", [\"House Lannister\"], [5, 6, 7]),\n",
    "    (\n",
    "        \"Jon\",\n",
    "        31,\n",
    "        \"male\",\n",
    "        \"Software Engineer\",\n",
    "        [\"House Targaryen\", \"House Stark\"],\n",
    "        [6, 7, 8],\n",
    "    ),\n",
    "    (\"Arya\", 27, \"f\", \"MLE\", [\"House Stark\"], [7, 8, 9]),\n",
    "    (\n",
    "        \"Sansa\",\n",
    "        26,\n",
    "        \"f\",\n",
    "        \"daata translator\",\n",
    "        [\"House Stark\", \"House Lannister\"],\n",
    "        [8, 9, 10],\n",
    "    ),\n",
    "    (\"Daenerys\", 36, \"female\", \"Mother of Dragons\", [\"House Targaryen\"], [9, 11, 13]),\n",
    "]\n",
    "\n",
    "df_sample = spark.createDataFrame(data, schema)\n",
    "\n",
    "tag_schema = StructType(\n",
    "    [\n",
    "        StructField(\"series_season\", IntegerType(), True),\n",
    "        StructField(\"name\", StringType(), True),\n",
    "        StructField(\"age\", IntegerType(), True),\n",
    "        StructField(\"gender\", StringType(), True),\n",
    "        StructField(\"occupation\", StringType(), True),\n",
    "        StructField(\"house\", ArrayType(StringType()), True),\n",
    "        StructField(\"number\", ArrayType(IntegerType()), True),\n",
    "        StructField(\n",
    "            \"tags\",\n",
    "            ArrayType(\n",
    "                StructType(\n",
    "                    [\n",
    "                        StructField(\"tag\", StringType(), True),\n",
    "                        StructField(\"value\", DoubleType(), True),\n",
    "                    ]\n",
    "                )\n",
    "            ),\n",
    "        ),\n",
    "    ]\n",
    ")\n",
    "tag_data = [\n",
    "    (\n",
    "        1,\n",
    "        \"Gendry\",\n",
    "        31,\n",
    "        \"male\",\n",
    "        \"Data Engineer\",\n",
    "        [\"House Baratheon\"],\n",
    "        [1, 2, 3],\n",
    "        [(\"occupation-data\", 1.0)],\n",
    "    ),\n",
    "    (\n",
    "        1,\n",
    "        \"Jaime\",\n",
    "        12,\n",
    "        \"male\",\n",
    "        \"Data Scientist\",\n",
    "        [\"House Lannister\"],\n",
    "        [2, 3, 4],\n",
    "        [(\"occupation-data\", 1.0)],\n",
    "    ),\n",
    "    (\n",
    "        1,\n",
    "        \"Tyrion\",\n",
    "        65,\n",
    "        \"male\",\n",
    "        \"Data Analyst\",\n",
    "        [\"House Lannister\", \"House Stark\"],\n",
    "        [3, 4, 5],\n",
    "        [(\"occupation-data\", 1.0)],\n",
    "    ),\n",
    "    (\n",
    "        1,\n",
    "        \"Cersei\",\n",
    "        29,\n",
    "        \"female\",\n",
    "        \"Engagement Manager\",\n",
    "        [\"House Lannister\"],\n",
    "        [5, 6, 7],\n",
    "        [(\"occupation-not-data\", 1.0)],\n",
    "    ),\n",
    "    (\n",
    "        1,\n",
    "        \"Jon\",\n",
    "        31,\n",
    "        \"male\",\n",
    "        \"Software Engineer\",\n",
    "        [\"House Targaryen\", \"House Stark\"],\n",
    "        [6, 7, 8],\n",
    "        [(\"extra-tag\", 1.0)],\n",
    "    ),\n",
    "    (\n",
    "        1,\n",
    "        \"Arya\",\n",
    "        27,\n",
    "        \"female\",\n",
    "        \"MLE\",\n",
    "        [\"House Stark\"],\n",
    "        [7, 8, 9],\n",
    "        [(\"occupation-not-data\", 1.0)],\n",
    "    ),\n",
    "    (\n",
    "        1,\n",
    "        \"Sansa\",\n",
    "        26,\n",
    "        \"female\",\n",
    "        \"daata translator\",\n",
    "        [\"House Stark\", \"House Lannister\"],\n",
    "        [8, 9, 10],\n",
    "        [(\"occupation-data\", 1.0), (\"extra-tag\", 1.0)],\n",
    "    ),\n",
    "    (\n",
    "        1,\n",
    "        \"Daenerys\",\n",
    "        36,\n",
    "        \"female\",\n",
    "        \"Mother of Dragons\",\n",
    "        [\"House Targaryen\"],\n",
    "        [9, 11, 13],\n",
    "        [(\"occupation-not-data\", 1.0)],\n",
    "    ),\n",
    "]\n",
    "\n",
    "df_with_tag_sample = spark.createDataFrame(tag_data, tag_schema)"
   ]
  },
  {
   "cell_type": "markdown",
   "id": "230fb829",
   "metadata": {},
   "source": [
    "We will use the following dataframe to demonstrate the various tag functions:"
   ]
  },
  {
   "cell_type": "code",
   "execution_count": null,
   "id": "e5bdc527",
   "metadata": {},
   "outputs": [],
   "source": [
    "df_sample.show(truncate=False)\n",
    "\n",
    "df_with_tag_sample.show(truncate=False)"
   ]
  },
  {
   "cell_type": "markdown",
   "id": "d7c642d0",
   "metadata": {},
   "source": [
    "### `isin`\n",
    "This generates a tag column if any of the list values is found in the column.\n",
    "This tag function can be used for creating fundamental, derived and complex tags.\n",
    "\n",
    "Lets check the dataframe with tags:"
   ]
  },
  {
   "cell_type": "code",
   "execution_count": null,
   "id": "8b7b0cd1",
   "metadata": {},
   "outputs": [],
   "source": [
    "from feature_generation.v1.core.tags.generate_tags import create_tags_from_config_select\n",
    "from feature_generation.v1.core.tags.tags import isin\n",
    "\n",
    "tag_config = [\n",
    "    isin(tag=\"gender_is_male\", input=\"gender\", values=[\"m\", \"male\"]),\n",
    "    isin(tag=\"gender_is_female\", input=\"gender\", values=[\"f\", \"female\"]),\n",
    "]\n",
    "\n",
    "results = create_tags_from_config_select(df_sample, tag_config)\n",
    "\n",
    "results.show(truncate=False)"
   ]
  },
  {
   "cell_type": "markdown",
   "id": "2ad8d98e",
   "metadata": {},
   "source": [
    "For those who wish to perform the same via configuration, here is an example for the\n",
    "same config:"
   ]
  },
  {
   "cell_type": "code",
   "execution_count": null,
   "id": "43656718",
   "metadata": {
    "tags": [
     "hide-input"
    ]
   },
   "outputs": [],
   "source": [
    "import yaml\n",
    "\n",
    "tag_config_string = \"\"\"\n",
    "  - \"object\": \"feature_generation.v1.core.tags.tags.isin\"\n",
    "    \"tag\": \"gender_is_male\"\n",
    "    \"input\": \"gender\"\n",
    "    \"values\": [\"m\", \"male\"]\n",
    "  - \"object\": \"feature_generation.v1.core.tags.tags.isin\"\n",
    "    \"tag\": \"gender_is_female\"\n",
    "    \"input\": \"gender\"\n",
    "    \"values\": [\"f\", \"female\"]\n",
    "\"\"\""
   ]
  },
  {
   "cell_type": "code",
   "execution_count": null,
   "id": "4ebcf1f2",
   "metadata": {},
   "outputs": [],
   "source": [
    "from feature_generation.v1.nodes.tags.generate_tags import create_tags_from_config\n",
    "\n",
    "print(tag_config_string)\n",
    "tag_config = yaml.safe_load(tag_config_string)\n",
    "same_result = create_tags_from_config(df_sample, tag_config)\n",
    "same_result.show(truncate=False)"
   ]
  },
  {
   "cell_type": "markdown",
   "id": "bdcda22f",
   "metadata": {},
   "source": [
    "Note the change of the import from `core` to `node`. For the rest of tutorial, we will\n",
    "be demonstrating via the code examples rather than config.\n",
    "\n",
    "\n",
    "### `rlike`\n",
    "This generates a tag column if the regex pattern can be found in the\n",
    "column. This tag function can be used for creating fundamental,\n",
    "derived and complex tags.\n",
    "\n",
    "Usage:"
   ]
  },
  {
   "cell_type": "code",
   "execution_count": null,
   "id": "160daed6",
   "metadata": {},
   "outputs": [],
   "source": [
    "from feature_generation.v1.core.tags.generate_tags import create_tags_from_config_select\n",
    "from feature_generation.v1.core.tags.tags import rlike\n",
    "\n",
    "tag_config = [\n",
    "    rlike(tag=\"occupation_data\", input=\"occupation\", values=[\"Data\", \"daata\"]),\n",
    "]\n",
    "\n",
    "results = create_tags_from_config_select(df_sample, tag_config)\n",
    "\n",
    "results.show(truncate=False)"
   ]
  },
  {
   "cell_type": "markdown",
   "id": "00524d3e",
   "metadata": {},
   "source": [
    "### `rlike_multi_col`\n",
    "This generates a tag if any of the patterns matches for multiple columns.\n",
    "This function is more useful when you need to look across columns, for example,\n",
    "the output should be 1 of column A equals X or column B equals Y."
   ]
  },
  {
   "cell_type": "code",
   "execution_count": null,
   "id": "023149e7",
   "metadata": {},
   "outputs": [],
   "source": [
    "from feature_generation.v1.core.tags.generate_tags import create_tags_from_config_select\n",
    "from operator import and_\n",
    "from feature_generation.v1.core.tags.tags import rlike_multi_col\n",
    "\n",
    "tag_config = [\n",
    "    rlike_multi_col(\n",
    "        tag=\"partners_in_data_field\",\n",
    "        inputs=[\n",
    "            {\"input\": \"name\", \"values\": [\"Sansa\", \"Tyrion\"]},\n",
    "            {\"input\": \"occupation\", \"values\": [\"Data\", \"daata\"]},\n",
    "        ],\n",
    "        operator=and_,\n",
    "    )\n",
    "]\n",
    "\n",
    "results = create_tags_from_config_select(df_sample, tag_config)\n",
    "\n",
    "results.show(truncate=False)"
   ]
  },
  {
   "cell_type": "markdown",
   "id": "81528ad2",
   "metadata": {},
   "source": [
    "### `array_rlike`\n",
    "This generates a tag column if any elements in the array regex match the\n",
    "pattern. This may be useful when the data comes in an array (usually to store a\n",
    "1-N relationship without impacting the row count of the table)."
   ]
  },
  {
   "cell_type": "code",
   "execution_count": null,
   "id": "fe8d56ff",
   "metadata": {},
   "outputs": [],
   "source": [
    "from feature_generation.v1.core.tags.generate_tags import create_tags_from_config_select\n",
    "from feature_generation.v1.core.tags.tags import array_rlike\n",
    "\n",
    "tag_config = [\n",
    "    array_rlike(tag=\"favourite_house\", input=\"house\", values=[\"Targaryen\", \"Stark\"]),\n",
    "]\n",
    "\n",
    "results = create_tags_from_config_select(df_sample, tag_config)\n",
    "\n",
    "results.show(truncate=False)"
   ]
  },
  {
   "cell_type": "markdown",
   "id": "d662cdd0",
   "metadata": {},
   "source": [
    "### `arrays_overlap`\n",
    "This generates a tag column if any element in the list can be found in\n",
    "the array. In contrast to `array_rlike`, `arrays_overlap` is more exact matches and\n",
    "will return a tag if there is at least 1 overlapping element."
   ]
  },
  {
   "cell_type": "code",
   "execution_count": null,
   "id": "78d01178",
   "metadata": {},
   "outputs": [],
   "source": [
    "from feature_generation.v1.core.tags.generate_tags import create_tags_from_config_select\n",
    "from feature_generation.v1.core.tags.tags import arrays_overlap\n",
    "\n",
    "tag_config = [\n",
    "    arrays_overlap(tag=\"even_numbers\", input=\"number\", values=[2, 4, 6, 8, 10]),\n",
    "]\n",
    "\n",
    "results = create_tags_from_config_select(df_sample, tag_config)\n",
    "\n",
    "results.show(truncate=False)"
   ]
  },
  {
   "cell_type": "markdown",
   "id": "e356c638",
   "metadata": {},
   "source": [
    "### `arrays_not_overlap`\n",
    "This generates a tag column if any of the list values cannot be found in the array.\n",
    "Like `arrays_overlap` but with the `NOT`."
   ]
  },
  {
   "cell_type": "code",
   "execution_count": null,
   "id": "f746fbfc",
   "metadata": {},
   "outputs": [],
   "source": [
    "from feature_generation.v1.core.tags.generate_tags import create_tags_from_config_select\n",
    "from feature_generation.v1.core.tags.tags import arrays_not_overlap\n",
    "\n",
    "tag_config = [\n",
    "    arrays_not_overlap(tag=\"odd_numbers\", input=\"number\", values=[2, 4, 6, 8, 10]),\n",
    "]\n",
    "\n",
    "results = create_tags_from_config_select(df_sample, tag_config)\n",
    "\n",
    "results.show(truncate=False)"
   ]
  },
  {
   "cell_type": "markdown",
   "id": "aafa8c9a",
   "metadata": {},
   "source": [
    "### `array_contains_all`\n",
    "This generates a tag column if all elements in the list can be found in\n",
    "the array."
   ]
  },
  {
   "cell_type": "code",
   "execution_count": null,
   "id": "1308bfb7",
   "metadata": {},
   "outputs": [],
   "source": [
    "from feature_generation.v1.core.tags.generate_tags import create_tags_from_config_select\n",
    "from feature_generation.v1.core.tags.tags import array_contains_all\n",
    "\n",
    "tag_config = [\n",
    "    array_contains_all(tag=\"favourite_numbers\", input=\"number\", values=[2, 4]),\n",
    "]\n",
    "\n",
    "results = create_tags_from_config_select(df_sample, tag_config)\n",
    "\n",
    "results.show(truncate=False)"
   ]
  },
  {
   "cell_type": "markdown",
   "id": "ecaac19b",
   "metadata": {},
   "source": [
    "### `array_not_contains_all`\n",
    "This generates a tag column if the array does not contain all the elements."
   ]
  },
  {
   "cell_type": "code",
   "execution_count": null,
   "id": "2b396750",
   "metadata": {},
   "outputs": [],
   "source": [
    "from feature_generation.v1.core.tags.generate_tags import create_tags_from_config_select\n",
    "from feature_generation.v1.core.tags.tags import array_not_contains_all\n",
    "\n",
    "tag_config = [\n",
    "    array_not_contains_all(\n",
    "        tag=\"numbers_less_than_9\", input=\"number\", values=[9, 11, 13]\n",
    "    ),\n",
    "]\n",
    "\n",
    "results = create_tags_from_config_select(df_sample, tag_config)\n",
    "\n",
    "results.show(truncate=False)"
   ]
  },
  {
   "cell_type": "markdown",
   "id": "1da28ada",
   "metadata": {},
   "source": [
    "### `dynamic_tag`\n",
    "This function constructs a tag where the value of the tag is the evaluated through\n",
    "`expr`. In most cases tags contain the value of either 0/1. This tag lets us\n",
    "store a continuous number in the value."
   ]
  },
  {
   "cell_type": "code",
   "execution_count": null,
   "id": "a768fdd2",
   "metadata": {},
   "outputs": [],
   "source": [
    "from feature_generation.v1.core.tags.generate_tags import create_tags_from_config_select\n",
    "from feature_generation.v1.core.tags.tags import dynamic_tag\n",
    "\n",
    "tag_config = [\n",
    "    dynamic_tag(tag=\"age_minus_2\", expr=\"age-2\"),\n",
    "]\n",
    "\n",
    "results = create_tags_from_config_select(df_sample, tag_config)\n",
    "\n",
    "results.show(truncate=False)"
   ]
  },
  {
   "cell_type": "markdown",
   "id": "af74bd39",
   "metadata": {},
   "source": [
    "### `one_hot_tag`\n",
    "This function constructs a tag where the value is part of the tag name.\n",
    "The idea is similar to one-hot-encoding, where each value generates a unique tag."
   ]
  },
  {
   "cell_type": "code",
   "execution_count": null,
   "id": "0e682c48",
   "metadata": {},
   "outputs": [],
   "source": [
    "from feature_generation.v1.core.tags.generate_tags import create_tags_from_config_select\n",
    "from feature_generation.v1.core.tags.tags import one_hot_tag\n",
    "\n",
    "tag_config = [\n",
    "    one_hot_tag(tag=\"age_minus_2\", expr=\"age-2\"),\n",
    "]\n",
    "\n",
    "results = create_tags_from_config_select(df_sample, tag_config)\n",
    "\n",
    "results.show(truncate=False)"
   ]
  },
  {
   "cell_type": "markdown",
   "id": "0465dee8",
   "metadata": {},
   "source": [
    "### `expr_tag`\n",
    "This function adds tag as the column value if expression evaluates to True.\n",
    "Looks similar to `dynamic_tag`, except the expression must produce a boolean.\n",
    "The value of the tag will return 1 if the boolean evaluates to True."
   ]
  },
  {
   "cell_type": "code",
   "execution_count": null,
   "id": "71ffdb5c",
   "metadata": {},
   "outputs": [],
   "source": [
    "from feature_generation.v1.core.tags.generate_tags import create_tags_from_config_select\n",
    "from feature_generation.v1.core.tags.tags import expr_tag\n",
    "\n",
    "tag_config = [\n",
    "    expr_tag(tag=\"age_less_than_25\", expr=\"age<25\"),\n",
    "]\n",
    "\n",
    "results = create_tags_from_config_select(df_sample, tag_config)\n",
    "\n",
    "results.show(truncate=False)"
   ]
  },
  {
   "cell_type": "markdown",
   "id": "c5412192",
   "metadata": {},
   "source": [
    "### `tag_array_rlike`\n",
    "This generates a tag column if any elements in the tag array regex match\n",
    "the pattern. This tag function can be used for creating fundamental,\n",
    "derived and complex tags. This might be useful if you need to search the tag column\n",
    "for the presence of a specific tag."
   ]
  },
  {
   "cell_type": "code",
   "execution_count": null,
   "id": "b9578e39",
   "metadata": {},
   "outputs": [],
   "source": [
    "from feature_generation.v1.core.tags.generate_tags import create_tags_from_config_select\n",
    "from feature_generation.v1.core.tags.tags import tag_array_rlike\n",
    "\n",
    "tag_config = [\n",
    "    tag_array_rlike(\n",
    "        tag=\"occupation_in_data_field\", input=\"tags\", values=[\"occupation-data\"]\n",
    "    ),\n",
    "]\n",
    "\n",
    "results = create_tags_from_config_select(df_with_tag_sample, tag_config)\n",
    "\n",
    "results.show(truncate=False)"
   ]
  },
  {
   "cell_type": "markdown",
   "id": "46e83dff",
   "metadata": {},
   "source": [
    "### tag_arrays_overlap\n",
    "This generates a tag column if any of the list values is found in the tag array.\n",
    "This is the same as `arrays_overlap` but is designed to work on a tag array column."
   ]
  },
  {
   "cell_type": "code",
   "execution_count": null,
   "id": "d9e0eda3",
   "metadata": {},
   "outputs": [],
   "source": [
    "from feature_generation.v1.core.tags.generate_tags import create_tags_from_config_select\n",
    "from feature_generation.v1.core.tags.tags import tag_arrays_overlap\n",
    "\n",
    "tag_config = [\n",
    "    tag_arrays_overlap(\n",
    "        tag=\"occupation_in_data_field\",\n",
    "        input=\"tags\",\n",
    "        values=[\"occupation-data\", \"extra-tag\"],\n",
    "    ),\n",
    "]\n",
    "\n",
    "results = create_tags_from_config_select(df_with_tag_sample, tag_config)\n",
    "\n",
    "results.show(truncate=False)"
   ]
  },
  {
   "cell_type": "markdown",
   "id": "b3139a06",
   "metadata": {},
   "source": [
    "### `tag_arrays_not_overlap`\n",
    "This generates a tag column if elements in values cannot be found in the tag array."
   ]
  },
  {
   "cell_type": "code",
   "execution_count": null,
   "id": "da41c647",
   "metadata": {},
   "outputs": [],
   "source": [
    "from feature_generation.v1.core.tags.generate_tags import create_tags_from_config_select\n",
    "from feature_generation.v1.core.tags.tags import tag_arrays_not_overlap\n",
    "\n",
    "tag_config = [\n",
    "    tag_arrays_not_overlap(\n",
    "        tag=\"occupation_not_in_data_field\",\n",
    "        input=\"tags\",\n",
    "        values=[\"occupation-data\", \"extra-tag\"],\n",
    "    ),\n",
    "]\n",
    "\n",
    "results = create_tags_from_config_select(df_with_tag_sample, tag_config)\n",
    "\n",
    "results.show(truncate=False)"
   ]
  },
  {
   "cell_type": "markdown",
   "id": "b7198124",
   "metadata": {},
   "source": [
    "### `tag_array_contains_all`\n",
    "This generates a tag column if all the values can be found in the tag array."
   ]
  },
  {
   "cell_type": "code",
   "execution_count": null,
   "id": "96f91b4b",
   "metadata": {},
   "outputs": [],
   "source": [
    "from feature_generation.v1.core.tags.generate_tags import create_tags_from_config_select\n",
    "from feature_generation.v1.core.tags.tags import tag_array_contains_all\n",
    "\n",
    "tag_config = [\n",
    "    tag_array_contains_all(\n",
    "        tag=\"occupation_and_extra_data_field\",\n",
    "        input=\"tags\",\n",
    "        values=[\"occupation-data\", \"extra-tag\"],\n",
    "    ),\n",
    "]\n",
    "\n",
    "results = create_tags_from_config_select(df_with_tag_sample, tag_config)\n",
    "\n",
    "results.show(truncate=False)"
   ]
  },
  {
   "cell_type": "markdown",
   "id": "834350fe",
   "metadata": {},
   "source": [
    "### `tag_array_not_contains_all`\n",
    "This generates a tag column if the tag array does not contain all the elements."
   ]
  },
  {
   "cell_type": "code",
   "execution_count": null,
   "id": "c11032b4",
   "metadata": {},
   "outputs": [],
   "source": [
    "from feature_generation.v1.core.tags.generate_tags import create_tags_from_config_select\n",
    "from feature_generation.v1.core.tags.tags import tag_array_not_contains_all\n",
    "\n",
    "tag_config = [\n",
    "    tag_array_not_contains_all(\n",
    "        tag=\"occupation_not_in_extra_data_field\",\n",
    "        input=\"tags\",\n",
    "        values=[\"occupation-data\", \"extra-tag\"],\n",
    "    ),\n",
    "]\n",
    "\n",
    "results = create_tags_from_config_select(df_with_tag_sample, tag_config)\n",
    "\n",
    "results.show(truncate=False)"
   ]
  },
  {
   "cell_type": "markdown",
   "id": "fbd57c79",
   "metadata": {},
   "source": [
    "### Post Tag Creation Functions\n",
    "\n",
    "After you have generated the tags, you still need to be able to extract them\n",
    "out of the tag array.\n",
    "\n",
    "### `Expand tags` and `Expand tags all`\n",
    "After creating tags, `expand_tags` will help us in converting tags to columns\n",
    "and further aggregate on desired set of columns.\n",
    "However, the aggregation can be optional.\n",
    "\n",
    "The `expand_tags_all` is a special case of `expand_tags` function which explodes\n",
    "all tags present in the data into columns, rather than a set of tags defined\n",
    "in list of tags to expand in case of `expand_tags`.\n",
    "\n",
    "\n",
    "### Simple Usage - Extraction\n",
    "This example will be shown in a config way, but you may simply replace the\n",
    "dictionaries with the actual functions/objects themselves."
   ]
  },
  {
   "cell_type": "code",
   "execution_count": null,
   "id": "5111fa1d",
   "metadata": {
    "tags": [
     "hide-input"
    ]
   },
   "outputs": [],
   "source": [
    "list_of_tags = [\"occupation-data\", \"occupation-not-data\"]\n",
    "\n",
    "key_cols = [\"gender\"]\n",
    "\n",
    "column_instructions = {\n",
    "    \"occupation_data_cnt\": {\n",
    "        \"object\": \"pyspark.sql.functions.sum\",\n",
    "        \"col\": \"occupation-data\",\n",
    "    },\n",
    "    \"occupation_not_data_cnt\": {\n",
    "        \"object\": \"pyspark.sql.functions.sum\",\n",
    "        \"col\": \"occupation-not-data\",\n",
    "    },\n",
    "}"
   ]
  },
  {
   "cell_type": "markdown",
   "id": "6e66beb8",
   "metadata": {},
   "source": [
    "Let's say this is the list of tags we wish to extract:"
   ]
  },
  {
   "cell_type": "code",
   "execution_count": null,
   "id": "b57d5f3b",
   "metadata": {},
   "outputs": [],
   "source": [
    "print(list_of_tags)"
   ]
  },
  {
   "cell_type": "markdown",
   "id": "eeecbdca",
   "metadata": {},
   "source": [
    "We can pass this list to the function below:"
   ]
  },
  {
   "cell_type": "code",
   "execution_count": null,
   "id": "61a87760",
   "metadata": {},
   "outputs": [],
   "source": [
    "from feature_generation.v1.core.tags.expand_tags import expand_tags\n",
    "\n",
    "expand_tags_df = expand_tags(\n",
    "    df_with_tags=df_with_tag_sample, tags_to_convert=list_of_tags\n",
    ")\n",
    "\n",
    "expand_tags_df.show(truncate=False)"
   ]
  },
  {
   "cell_type": "markdown",
   "id": "60e2deb7",
   "metadata": {},
   "source": [
    "### Alternative Usage - Automatic Extraction\n",
    "This example shows an alternative way to explode tags using `expand_tags_all`.\n",
    "This function expands all the tags present in the dataframe into separate columns.\n",
    "\n",
    "Let's say this is the list of tags which are present in the dataset's `tags` column:\n",
    "\n",
    "`[\"occupation-data\", \"occupation-not-data\", \"extra-tag\"]`\n",
    "\n",
    "We can expand the tags column using the following snippet of code:"
   ]
  },
  {
   "cell_type": "code",
   "execution_count": null,
   "id": "cd151e6c",
   "metadata": {},
   "outputs": [],
   "source": [
    "from feature_generation.v1.core.tags.expand_tags import expand_tags_all\n",
    "\n",
    "expand_tags_df = expand_tags_all(df_with_tags=df_with_tag_sample)\n",
    "\n",
    "expand_tags_df.show(truncate=False)"
   ]
  },
  {
   "cell_type": "markdown",
   "id": "34191118",
   "metadata": {},
   "source": [
    "### Advanced Usage - Extraction then Aggregation\n",
    "A more common pattern is to extract the tags into column, then aggregate\n",
    "to the desired unit of analysis.\n",
    "\n",
    "\n",
    "In this case, we wish to aggregate on this column:"
   ]
  },
  {
   "cell_type": "code",
   "execution_count": null,
   "id": "fbe5cd92",
   "metadata": {},
   "outputs": [],
   "source": [
    "print(key_cols)"
   ]
  },
  {
   "cell_type": "markdown",
   "id": "073443cc",
   "metadata": {},
   "source": [
    "Along with the aggregation function to be applied:"
   ]
  },
  {
   "cell_type": "code",
   "execution_count": null,
   "id": "b9593132",
   "metadata": {},
   "outputs": [],
   "source": [
    "import yaml\n",
    "\n",
    "print(yaml.safe_dump(column_instructions))"
   ]
  },
  {
   "cell_type": "markdown",
   "id": "64841824",
   "metadata": {},
   "source": [
    "We can pass these extra arguments:"
   ]
  },
  {
   "cell_type": "code",
   "execution_count": null,
   "id": "bbfaa5c4",
   "metadata": {},
   "outputs": [],
   "source": [
    "from feature_generation.v1.nodes.tags.expand_tags import expand_tags\n",
    "\n",
    "expand_tags_agg_df = expand_tags(\n",
    "    df_with_tags=df_with_tag_sample,\n",
    "    tags_to_convert=list_of_tags,\n",
    "    key_cols=key_cols,\n",
    "    column_instructions=column_instructions,\n",
    ")\n",
    "expand_tags_agg_df.show(truncate=False)"
   ]
  }
 ],
 "metadata": {
  "kernelspec": {
   "display_name": "Python 3",
   "language": "python",
   "name": "python3"
  }
 },
 "nbformat": 4,
 "nbformat_minor": 5
}

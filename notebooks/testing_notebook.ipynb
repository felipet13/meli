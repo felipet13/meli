{
 "cells": [
  {
   "cell_type": "code",
   "execution_count": 10,
   "id": "283ce8d1-e872-4563-bd39-4f8012ff2621",
   "metadata": {},
   "outputs": [
    {
     "data": {
      "text/html": [
       "<pre style=\"white-space:pre;overflow-x:auto;line-height:normal;font-family:Menlo,'DejaVu Sans Mono',consolas,'Courier New',monospace\"><span style=\"color: #7fbfbf; text-decoration-color: #7fbfbf\">[05/16/24 00:08:09] </span><span style=\"color: #000080; text-decoration-color: #000080\">INFO    </span> Resolved project path as: <span style=\"color: #800080; text-decoration-color: #800080\">/Users/Felipe_Tellez/Desktop/</span><span style=\"color: #ff00ff; text-decoration-color: #ff00ff\">meli.</span>           <a href=\"file:///Users/Felipe_Tellez/anaconda3/envs/meli/lib/python3.10/site-packages/kedro/ipython/__init__.py\" target=\"_blank\"><span style=\"color: #7f7f7f; text-decoration-color: #7f7f7f\">__init__.py</span></a><span style=\"color: #7f7f7f; text-decoration-color: #7f7f7f\">:</span><a href=\"file:///Users/Felipe_Tellez/anaconda3/envs/meli/lib/python3.10/site-packages/kedro/ipython/__init__.py#164\" target=\"_blank\"><span style=\"color: #7f7f7f; text-decoration-color: #7f7f7f\">164</span></a>\n",
       "<span style=\"color: #7fbfbf; text-decoration-color: #7fbfbf\">                    </span>         To set a different path, run <span style=\"color: #008000; text-decoration-color: #008000\">'%reload_kedro &lt;project_root&gt;'</span>            <span style=\"color: #7f7f7f; text-decoration-color: #7f7f7f\">               </span>\n",
       "</pre>\n"
      ],
      "text/plain": [
       "\u001b[2;36m[05/16/24 00:08:09]\u001b[0m\u001b[2;36m \u001b[0m\u001b[34mINFO    \u001b[0m Resolved project path as: \u001b[35m/Users/Felipe_Tellez/Desktop/\u001b[0m\u001b[95mmeli.\u001b[0m           \u001b]8;id=827924;file:///Users/Felipe_Tellez/anaconda3/envs/meli/lib/python3.10/site-packages/kedro/ipython/__init__.py\u001b\\\u001b[2m__init__.py\u001b[0m\u001b]8;;\u001b\\\u001b[2m:\u001b[0m\u001b]8;id=560697;file:///Users/Felipe_Tellez/anaconda3/envs/meli/lib/python3.10/site-packages/kedro/ipython/__init__.py#164\u001b\\\u001b[2m164\u001b[0m\u001b]8;;\u001b\\\n",
       "\u001b[2;36m                    \u001b[0m         To set a different path, run \u001b[32m'%reload_kedro \u001b[0m\u001b[32m<\u001b[0m\u001b[32mproject_root\u001b[0m\u001b[32m>\u001b[0m\u001b[32m'\u001b[0m            \u001b[2m               \u001b[0m\n"
      ]
     },
     "metadata": {},
     "output_type": "display_data"
    },
    {
     "data": {
      "text/html": [
       "<pre style=\"white-space:pre;overflow-x:auto;line-height:normal;font-family:Menlo,'DejaVu Sans Mono',consolas,'Courier New',monospace\"><span style=\"color: #7fbfbf; text-decoration-color: #7fbfbf\">[05/16/24 00:08:10] </span><span style=\"color: #000080; text-decoration-color: #000080\">INFO    </span> Kedro project meli                                                     <a href=\"file:///Users/Felipe_Tellez/anaconda3/envs/meli/lib/python3.10/site-packages/kedro/ipython/__init__.py\" target=\"_blank\"><span style=\"color: #7f7f7f; text-decoration-color: #7f7f7f\">__init__.py</span></a><span style=\"color: #7f7f7f; text-decoration-color: #7f7f7f\">:</span><a href=\"file:///Users/Felipe_Tellez/anaconda3/envs/meli/lib/python3.10/site-packages/kedro/ipython/__init__.py#134\" target=\"_blank\"><span style=\"color: #7f7f7f; text-decoration-color: #7f7f7f\">134</span></a>\n",
       "</pre>\n"
      ],
      "text/plain": [
       "\u001b[2;36m[05/16/24 00:08:10]\u001b[0m\u001b[2;36m \u001b[0m\u001b[34mINFO    \u001b[0m Kedro project meli                                                     \u001b]8;id=141739;file:///Users/Felipe_Tellez/anaconda3/envs/meli/lib/python3.10/site-packages/kedro/ipython/__init__.py\u001b\\\u001b[2m__init__.py\u001b[0m\u001b]8;;\u001b\\\u001b[2m:\u001b[0m\u001b]8;id=463781;file:///Users/Felipe_Tellez/anaconda3/envs/meli/lib/python3.10/site-packages/kedro/ipython/__init__.py#134\u001b\\\u001b[2m134\u001b[0m\u001b]8;;\u001b\\\n"
      ]
     },
     "metadata": {},
     "output_type": "display_data"
    },
    {
     "data": {
      "text/html": [
       "<pre style=\"white-space:pre;overflow-x:auto;line-height:normal;font-family:Menlo,'DejaVu Sans Mono',consolas,'Courier New',monospace\"><span style=\"color: #7fbfbf; text-decoration-color: #7fbfbf\">                    </span><span style=\"color: #000080; text-decoration-color: #000080\">INFO    </span> Defined global variable <span style=\"color: #008000; text-decoration-color: #008000\">'context'</span>, <span style=\"color: #008000; text-decoration-color: #008000\">'session'</span>, <span style=\"color: #008000; text-decoration-color: #008000\">'catalog'</span> and            <a href=\"file:///Users/Felipe_Tellez/anaconda3/envs/meli/lib/python3.10/site-packages/kedro/ipython/__init__.py\" target=\"_blank\"><span style=\"color: #7f7f7f; text-decoration-color: #7f7f7f\">__init__.py</span></a><span style=\"color: #7f7f7f; text-decoration-color: #7f7f7f\">:</span><a href=\"file:///Users/Felipe_Tellez/anaconda3/envs/meli/lib/python3.10/site-packages/kedro/ipython/__init__.py#135\" target=\"_blank\"><span style=\"color: #7f7f7f; text-decoration-color: #7f7f7f\">135</span></a>\n",
       "<span style=\"color: #7fbfbf; text-decoration-color: #7fbfbf\">                    </span>         <span style=\"color: #008000; text-decoration-color: #008000\">'pipelines'</span>                                                            <span style=\"color: #7f7f7f; text-decoration-color: #7f7f7f\">               </span>\n",
       "</pre>\n"
      ],
      "text/plain": [
       "\u001b[2;36m                   \u001b[0m\u001b[2;36m \u001b[0m\u001b[34mINFO    \u001b[0m Defined global variable \u001b[32m'context'\u001b[0m, \u001b[32m'session'\u001b[0m, \u001b[32m'catalog'\u001b[0m and            \u001b]8;id=341735;file:///Users/Felipe_Tellez/anaconda3/envs/meli/lib/python3.10/site-packages/kedro/ipython/__init__.py\u001b\\\u001b[2m__init__.py\u001b[0m\u001b]8;;\u001b\\\u001b[2m:\u001b[0m\u001b]8;id=104755;file:///Users/Felipe_Tellez/anaconda3/envs/meli/lib/python3.10/site-packages/kedro/ipython/__init__.py#135\u001b\\\u001b[2m135\u001b[0m\u001b]8;;\u001b\\\n",
       "\u001b[2;36m                    \u001b[0m         \u001b[32m'pipelines'\u001b[0m                                                            \u001b[2m               \u001b[0m\n"
      ]
     },
     "metadata": {},
     "output_type": "display_data"
    },
    {
     "data": {
      "text/html": [
       "<pre style=\"white-space:pre;overflow-x:auto;line-height:normal;font-family:Menlo,'DejaVu Sans Mono',consolas,'Courier New',monospace\"><span style=\"color: #7fbfbf; text-decoration-color: #7fbfbf\">                    </span><span style=\"color: #000080; text-decoration-color: #000080\">INFO    </span> Registered line magic <span style=\"color: #008000; text-decoration-color: #008000\">'run_viz'</span>                                        <a href=\"file:///Users/Felipe_Tellez/anaconda3/envs/meli/lib/python3.10/site-packages/kedro/ipython/__init__.py\" target=\"_blank\"><span style=\"color: #7f7f7f; text-decoration-color: #7f7f7f\">__init__.py</span></a><span style=\"color: #7f7f7f; text-decoration-color: #7f7f7f\">:</span><a href=\"file:///Users/Felipe_Tellez/anaconda3/envs/meli/lib/python3.10/site-packages/kedro/ipython/__init__.py#141\" target=\"_blank\"><span style=\"color: #7f7f7f; text-decoration-color: #7f7f7f\">141</span></a>\n",
       "</pre>\n"
      ],
      "text/plain": [
       "\u001b[2;36m                   \u001b[0m\u001b[2;36m \u001b[0m\u001b[34mINFO    \u001b[0m Registered line magic \u001b[32m'run_viz'\u001b[0m                                        \u001b]8;id=446338;file:///Users/Felipe_Tellez/anaconda3/envs/meli/lib/python3.10/site-packages/kedro/ipython/__init__.py\u001b\\\u001b[2m__init__.py\u001b[0m\u001b]8;;\u001b\\\u001b[2m:\u001b[0m\u001b]8;id=338591;file:///Users/Felipe_Tellez/anaconda3/envs/meli/lib/python3.10/site-packages/kedro/ipython/__init__.py#141\u001b\\\u001b[2m141\u001b[0m\u001b]8;;\u001b\\\n"
      ]
     },
     "metadata": {},
     "output_type": "display_data"
    }
   ],
   "source": [
    "%reload_kedro"
   ]
  },
  {
   "cell_type": "code",
   "execution_count": 11,
   "id": "45f94e19-59c9-49bd-884d-27cd8f25a619",
   "metadata": {},
   "outputs": [
    {
     "data": {
      "text/html": [
       "<pre style=\"white-space:pre;overflow-x:auto;line-height:normal;font-family:Menlo,'DejaVu Sans Mono',consolas,'Courier New',monospace\"></pre>\n"
      ],
      "text/plain": []
     },
     "metadata": {},
     "output_type": "display_data"
    },
    {
     "data": {
      "text/plain": [
       "\n",
       "\u001b[1m[\u001b[0m\n",
       "    \u001b[32m'companies'\u001b[0m,\n",
       "    \u001b[32m'reviews'\u001b[0m,\n",
       "    \u001b[32m'shuttles_excel'\u001b[0m,\n",
       "    \u001b[32m'shuttles@csv'\u001b[0m,\n",
       "    \u001b[32m'shuttles@spark'\u001b[0m,\n",
       "    \u001b[32m'preprocessed_companies'\u001b[0m,\n",
       "    \u001b[32m'preprocessed_shuttles'\u001b[0m,\n",
       "    \u001b[32m'preprocessed_reviews'\u001b[0m,\n",
       "    \u001b[32m'model_input_table@spark'\u001b[0m,\n",
       "    \u001b[32m'model_input_table@pandas'\u001b[0m,\n",
       "    \u001b[32m'regressor'\u001b[0m,\n",
       "    \u001b[32m'metrics'\u001b[0m,\n",
       "    \u001b[32m'companies_columns'\u001b[0m,\n",
       "    \u001b[32m'shuttle_passenger_capacity_plot_exp'\u001b[0m,\n",
       "    \u001b[32m'shuttle_passenger_capacity_plot_go'\u001b[0m,\n",
       "    \u001b[32m'dummy_confusion_matrix'\u001b[0m,\n",
       "    \u001b[32m'pays'\u001b[0m,\n",
       "    \u001b[32m'prints'\u001b[0m,\n",
       "    \u001b[32m'taps'\u001b[0m,\n",
       "    \u001b[32m'preprocessed_prints'\u001b[0m,\n",
       "    \u001b[32m'preprocessed_taps'\u001b[0m,\n",
       "    \u001b[32m'parameters'\u001b[0m,\n",
       "    \u001b[32m'params:raw_prints'\u001b[0m,\n",
       "    \u001b[32m'params:raw_prints.explode_column'\u001b[0m,\n",
       "    \u001b[32m'params:raw_prints.columns_to_cast'\u001b[0m,\n",
       "    \u001b[32m'params:raw_prints.columns_to_cast.day'\u001b[0m,\n",
       "    \u001b[32m'params:raw_prints.columns_to_cast.position'\u001b[0m,\n",
       "    \u001b[32m'params:raw_prints.columns_to_cast.value_prop'\u001b[0m,\n",
       "    \u001b[32m'params:raw_prints.columns_to_cast.user_id'\u001b[0m,\n",
       "    \u001b[32m'params:raw_taps'\u001b[0m,\n",
       "    \u001b[32m'params:raw_taps.explode_column'\u001b[0m,\n",
       "    \u001b[32m'params:raw_taps.columns_to_cast'\u001b[0m,\n",
       "    \u001b[32m'params:raw_taps.columns_to_cast.day'\u001b[0m,\n",
       "    \u001b[32m'params:raw_taps.columns_to_cast.position'\u001b[0m,\n",
       "    \u001b[32m'params:raw_taps.columns_to_cast.value_prop'\u001b[0m,\n",
       "    \u001b[32m'params:raw_taps.columns_to_cast.user_id'\u001b[0m,\n",
       "    \u001b[32m'params:model_options'\u001b[0m,\n",
       "    \u001b[32m'params:model_options.test_size'\u001b[0m,\n",
       "    \u001b[32m'params:model_options.random_state'\u001b[0m,\n",
       "    \u001b[32m'params:model_options.features'\u001b[0m\n",
       "\u001b[1m]\u001b[0m"
      ]
     },
     "execution_count": 11,
     "metadata": {},
     "output_type": "execute_result"
    }
   ],
   "source": [
    "catalog.list()"
   ]
  },
  {
   "cell_type": "code",
   "execution_count": 25,
   "id": "086eccd5-21ef-4177-8634-376cb3c920dd",
   "metadata": {},
   "outputs": [
    {
     "data": {
      "text/html": [
       "<pre style=\"white-space:pre;overflow-x:auto;line-height:normal;font-family:Menlo,'DejaVu Sans Mono',consolas,'Courier New',monospace\"><span style=\"color: #7fbfbf; text-decoration-color: #7fbfbf\">[05/15/24 17:11:54] </span><span style=\"color: #000080; text-decoration-color: #000080\">INFO    </span> Loading data from <span style=\"color: #ff8700; text-decoration-color: #ff8700\">pays</span> <span style=\"font-weight: bold\">(</span>SparkDataset<span style=\"font-weight: bold\">)</span><span style=\"color: #808000; text-decoration-color: #808000\">...</span>                           <a href=\"file:///Users/Felipe_Tellez/anaconda3/envs/meli/lib/python3.10/site-packages/kedro/io/data_catalog.py\" target=\"_blank\"><span style=\"color: #7f7f7f; text-decoration-color: #7f7f7f\">data_catalog.py</span></a><span style=\"color: #7f7f7f; text-decoration-color: #7f7f7f\">:</span><a href=\"file:///Users/Felipe_Tellez/anaconda3/envs/meli/lib/python3.10/site-packages/kedro/io/data_catalog.py#483\" target=\"_blank\"><span style=\"color: #7f7f7f; text-decoration-color: #7f7f7f\">483</span></a>\n",
       "</pre>\n"
      ],
      "text/plain": [
       "\u001b[2;36m[05/15/24 17:11:54]\u001b[0m\u001b[2;36m \u001b[0m\u001b[34mINFO    \u001b[0m Loading data from \u001b[38;5;208mpays\u001b[0m \u001b[1m(\u001b[0mSparkDataset\u001b[1m)\u001b[0m\u001b[33m...\u001b[0m                           \u001b]8;id=376792;file:///Users/Felipe_Tellez/anaconda3/envs/meli/lib/python3.10/site-packages/kedro/io/data_catalog.py\u001b\\\u001b[2mdata_catalog.py\u001b[0m\u001b]8;;\u001b\\\u001b[2m:\u001b[0m\u001b]8;id=417692;file:///Users/Felipe_Tellez/anaconda3/envs/meli/lib/python3.10/site-packages/kedro/io/data_catalog.py#483\u001b\\\u001b[2m483\u001b[0m\u001b]8;;\u001b\\\n"
      ]
     },
     "metadata": {},
     "output_type": "display_data"
    }
   ],
   "source": [
    "pays = catalog.load(\"pays\")"
   ]
  },
  {
   "cell_type": "code",
   "execution_count": 26,
   "id": "4f5a827e-26f3-410f-a7aa-96b450293de5",
   "metadata": {},
   "outputs": [
    {
     "data": {
      "text/html": [
       "<pre style=\"white-space:pre;overflow-x:auto;line-height:normal;font-family:Menlo,'DejaVu Sans Mono',consolas,'Courier New',monospace\"></pre>\n"
      ],
      "text/plain": []
     },
     "metadata": {},
     "output_type": "display_data"
    },
    {
     "data": {
      "text/plain": [
       "\u001b[1;35mStructType\u001b[0m\u001b[1m(\u001b[0m\u001b[1m[\u001b[0m\u001b[1;35mStructField\u001b[0m\u001b[1m(\u001b[0m\u001b[32m'pay_date'\u001b[0m, \u001b[1;35mDateType\u001b[0m\u001b[1m(\u001b[0m\u001b[1m)\u001b[0m, \u001b[3;92mTrue\u001b[0m\u001b[1m)\u001b[0m, \u001b[1;35mStructField\u001b[0m\u001b[1m(\u001b[0m\u001b[32m'total'\u001b[0m, \u001b[1;35mDoubleType\u001b[0m\u001b[1m(\u001b[0m\u001b[1m)\u001b[0m, \u001b[3;92mTrue\u001b[0m\u001b[1m)\u001b[0m, \u001b[1;35mStructField\u001b[0m\u001b[1m(\u001b[0m\u001b[32m'user_id'\u001b[0m, \u001b[1;35mIntegerType\u001b[0m\u001b[1m(\u001b[0m\u001b[1m)\u001b[0m, \u001b[3;92mTrue\u001b[0m\u001b[1m)\u001b[0m, \u001b[1;35mStructField\u001b[0m\u001b[1m(\u001b[0m\u001b[32m'value_prop'\u001b[0m, \u001b[1;35mStringType\u001b[0m\u001b[1m(\u001b[0m\u001b[1m)\u001b[0m, \u001b[3;92mTrue\u001b[0m\u001b[1m)\u001b[0m\u001b[1m]\u001b[0m\u001b[1m)\u001b[0m"
      ]
     },
     "execution_count": 26,
     "metadata": {},
     "output_type": "execute_result"
    }
   ],
   "source": [
    "pays.schema"
   ]
  },
  {
   "cell_type": "code",
   "execution_count": 27,
   "id": "68066da5-61e5-4e4a-9ee9-4e2e7e09686f",
   "metadata": {},
   "outputs": [
    {
     "name": "stdout",
     "output_type": "stream",
     "text": [
      "root\n",
      " |-- pay_date: date (nullable = true)\n",
      " |-- total: double (nullable = true)\n",
      " |-- user_id: integer (nullable = true)\n",
      " |-- value_prop: string (nullable = true)\n",
      "\n"
     ]
    }
   ],
   "source": [
    "pays.printSchema()"
   ]
  },
  {
   "cell_type": "code",
   "execution_count": 28,
   "id": "fb318d11-0ccb-44f1-982d-a81ede5ad462",
   "metadata": {},
   "outputs": [
    {
     "name": "stdout",
     "output_type": "stream",
     "text": [
      "+----------+------+-------+------------------+\n",
      "|  pay_date| total|user_id|        value_prop|\n",
      "+----------+------+-------+------------------+\n",
      "|2020-11-01|  7.04|  35994|        link_cobro|\n",
      "|2020-11-01| 37.36|  79066|cellphone_recharge|\n",
      "|2020-11-01| 15.84|  19321|cellphone_recharge|\n",
      "|2020-11-01| 26.26|  19321|        send_money|\n",
      "|2020-11-01| 35.35|  38438|        send_money|\n",
      "|2020-11-01| 20.95|  85939|         transport|\n",
      "|2020-11-01| 74.48|  14372|           prepaid|\n",
      "|2020-11-01| 31.52|  14372|        link_cobro|\n",
      "|2020-11-01| 83.76|  65274|         transport|\n",
      "|2020-11-01| 93.54|  65274|           prepaid|\n",
      "|2020-11-01| 37.84|  97428|        link_cobro|\n",
      "|2020-11-01| 26.77|  82163|        link_cobro|\n",
      "|2020-11-01| 92.56|   9816|        send_money|\n",
      "|2020-11-01|122.03|   9816|           prepaid|\n",
      "|2020-11-01| 83.66|  28929|           prepaid|\n",
      "|2020-11-01|136.78|  97275|        link_cobro|\n",
      "|2020-11-01| 17.34|  85001|cellphone_recharge|\n",
      "|2020-11-01| 41.93|  85001|        link_cobro|\n",
      "|2020-11-01| 31.38|     42|        send_money|\n",
      "|2020-11-01| 39.28|     42|         transport|\n",
      "+----------+------+-------+------------------+\n",
      "only showing top 20 rows\n",
      "\n"
     ]
    }
   ],
   "source": [
    "pays.show()"
   ]
  },
  {
   "cell_type": "code",
   "execution_count": 14,
   "id": "8580c085-8aac-459a-8ff0-fd925608b3a1",
   "metadata": {},
   "outputs": [
    {
     "data": {
      "text/html": [
       "<pre style=\"white-space:pre;overflow-x:auto;line-height:normal;font-family:Menlo,'DejaVu Sans Mono',consolas,'Courier New',monospace\"><span style=\"color: #7fbfbf; text-decoration-color: #7fbfbf\">[05/16/24 00:08:36] </span><span style=\"color: #000080; text-decoration-color: #000080\">INFO    </span> Loading data from <span style=\"color: #ff8700; text-decoration-color: #ff8700\">preprocessed_prints</span> <span style=\"font-weight: bold\">(</span>SparkDataset<span style=\"font-weight: bold\">)</span><span style=\"color: #808000; text-decoration-color: #808000\">...</span>            <a href=\"file:///Users/Felipe_Tellez/anaconda3/envs/meli/lib/python3.10/site-packages/kedro/io/data_catalog.py\" target=\"_blank\"><span style=\"color: #7f7f7f; text-decoration-color: #7f7f7f\">data_catalog.py</span></a><span style=\"color: #7f7f7f; text-decoration-color: #7f7f7f\">:</span><a href=\"file:///Users/Felipe_Tellez/anaconda3/envs/meli/lib/python3.10/site-packages/kedro/io/data_catalog.py#483\" target=\"_blank\"><span style=\"color: #7f7f7f; text-decoration-color: #7f7f7f\">483</span></a>\n",
       "</pre>\n"
      ],
      "text/plain": [
       "\u001b[2;36m[05/16/24 00:08:36]\u001b[0m\u001b[2;36m \u001b[0m\u001b[34mINFO    \u001b[0m Loading data from \u001b[38;5;208mpreprocessed_prints\u001b[0m \u001b[1m(\u001b[0mSparkDataset\u001b[1m)\u001b[0m\u001b[33m...\u001b[0m            \u001b]8;id=666153;file:///Users/Felipe_Tellez/anaconda3/envs/meli/lib/python3.10/site-packages/kedro/io/data_catalog.py\u001b\\\u001b[2mdata_catalog.py\u001b[0m\u001b]8;;\u001b\\\u001b[2m:\u001b[0m\u001b]8;id=621826;file:///Users/Felipe_Tellez/anaconda3/envs/meli/lib/python3.10/site-packages/kedro/io/data_catalog.py#483\u001b\\\u001b[2m483\u001b[0m\u001b]8;;\u001b\\\n"
      ]
     },
     "metadata": {},
     "output_type": "display_data"
    },
    {
     "data": {
      "text/html": [
       "<pre style=\"white-space:pre;overflow-x:auto;line-height:normal;font-family:Menlo,'DejaVu Sans Mono',consolas,'Courier New',monospace\"><span style=\"color: #7fbfbf; text-decoration-color: #7fbfbf\">                    </span><span style=\"color: #000080; text-decoration-color: #000080\">INFO    </span> Loading data from <span style=\"color: #ff8700; text-decoration-color: #ff8700\">preprocessed_taps</span> <span style=\"font-weight: bold\">(</span>SparkDataset<span style=\"font-weight: bold\">)</span><span style=\"color: #808000; text-decoration-color: #808000\">...</span>              <a href=\"file:///Users/Felipe_Tellez/anaconda3/envs/meli/lib/python3.10/site-packages/kedro/io/data_catalog.py\" target=\"_blank\"><span style=\"color: #7f7f7f; text-decoration-color: #7f7f7f\">data_catalog.py</span></a><span style=\"color: #7f7f7f; text-decoration-color: #7f7f7f\">:</span><a href=\"file:///Users/Felipe_Tellez/anaconda3/envs/meli/lib/python3.10/site-packages/kedro/io/data_catalog.py#483\" target=\"_blank\"><span style=\"color: #7f7f7f; text-decoration-color: #7f7f7f\">483</span></a>\n",
       "</pre>\n"
      ],
      "text/plain": [
       "\u001b[2;36m                   \u001b[0m\u001b[2;36m \u001b[0m\u001b[34mINFO    \u001b[0m Loading data from \u001b[38;5;208mpreprocessed_taps\u001b[0m \u001b[1m(\u001b[0mSparkDataset\u001b[1m)\u001b[0m\u001b[33m...\u001b[0m              \u001b]8;id=756302;file:///Users/Felipe_Tellez/anaconda3/envs/meli/lib/python3.10/site-packages/kedro/io/data_catalog.py\u001b\\\u001b[2mdata_catalog.py\u001b[0m\u001b]8;;\u001b\\\u001b[2m:\u001b[0m\u001b]8;id=69054;file:///Users/Felipe_Tellez/anaconda3/envs/meli/lib/python3.10/site-packages/kedro/io/data_catalog.py#483\u001b\\\u001b[2m483\u001b[0m\u001b]8;;\u001b\\\n"
      ]
     },
     "metadata": {},
     "output_type": "display_data"
    }
   ],
   "source": [
    "prints = catalog.load(\"preprocessed_prints\")\n",
    "taps = catalog.load(\"preprocessed_taps\")"
   ]
  },
  {
   "cell_type": "code",
   "execution_count": 17,
   "id": "b3c021c5-d06a-45b7-9356-ebdb5235cbb5",
   "metadata": {},
   "outputs": [
    {
     "name": "stdout",
     "output_type": "stream",
     "text": [
      "+----------+-------+--------+------------------+\n",
      "|       day|user_id|position|        value_prop|\n",
      "+----------+-------+--------+------------------+\n",
      "|2020-11-01|  98702|       0|cellphone_recharge|\n",
      "|2020-11-01|   3708|       2|             point|\n",
      "|2020-11-01|   3708|       3|        send_money|\n",
      "|2020-11-01|  93963|       0|         transport|\n",
      "|2020-11-01|  93963|       1|cellphone_recharge|\n",
      "|2020-11-01|  94945|       0|        link_cobro|\n",
      "|2020-11-01|  94945|       1|cellphone_recharge|\n",
      "|2020-11-01|  89026|       2|           prepaid|\n",
      "|2020-11-01|   7616|       0|        link_cobro|\n",
      "|2020-11-01|  63471|       0|        link_cobro|\n",
      "|2020-11-01|  98277|       1|        send_money|\n",
      "|2020-11-01|  83634|       2|cellphone_recharge|\n",
      "|2020-11-01|   2367|       0|cellphone_recharge|\n",
      "|2020-11-01|  14472|       0|  credits_consumer|\n",
      "|2020-11-01|  88316|       2|        send_money|\n",
      "|2020-11-01|  40910|       0|  credits_consumer|\n",
      "|2020-11-01|    412|       0|cellphone_recharge|\n",
      "|2020-11-01|  76198|       1|           prepaid|\n",
      "|2020-11-01|  52715|       3|         transport|\n",
      "|2020-11-01|   9294|       2|  credits_consumer|\n",
      "+----------+-------+--------+------------------+\n",
      "only showing top 20 rows\n",
      "\n"
     ]
    }
   ],
   "source": [
    "taps.show()"
   ]
  },
  {
   "cell_type": "code",
   "execution_count": 82,
   "id": "a909bbbd-a05d-4767-874b-6d10f17a6b5d",
   "metadata": {},
   "outputs": [
    {
     "data": {
      "text/html": [
       "<pre style=\"white-space:pre;overflow-x:auto;line-height:normal;font-family:Menlo,'DejaVu Sans Mono',consolas,'Courier New',monospace\"></pre>\n"
      ],
      "text/plain": []
     },
     "metadata": {},
     "output_type": "display_data"
    },
    {
     "data": {
      "text/plain": [
       "\u001b[1;35mStructType\u001b[0m\u001b[1m(\u001b[0m\u001b[1m[\u001b[0m\u001b[1;35mStructField\u001b[0m\u001b[1m(\u001b[0m\u001b[32m'day'\u001b[0m, \u001b[1;35mStringType\u001b[0m\u001b[1m(\u001b[0m\u001b[1m)\u001b[0m, \u001b[3;92mTrue\u001b[0m\u001b[1m)\u001b[0m, \u001b[1;35mStructField\u001b[0m\u001b[1m(\u001b[0m\u001b[32m'event_data'\u001b[0m, \u001b[1;35mStructType\u001b[0m\u001b[1m(\u001b[0m\u001b[1m[\u001b[0m\u001b[1;35mStructField\u001b[0m\u001b[1m(\u001b[0m\u001b[32m'position'\u001b[0m, \u001b[1;35mLongType\u001b[0m\u001b[1m(\u001b[0m\u001b[1m)\u001b[0m, \u001b[3;92mTrue\u001b[0m\u001b[1m)\u001b[0m, \u001b[1;35mStructField\u001b[0m\u001b[1m(\u001b[0m\u001b[32m'value_prop'\u001b[0m, \u001b[1;35mStringType\u001b[0m\u001b[1m(\u001b[0m\u001b[1m)\u001b[0m, \u001b[3;92mTrue\u001b[0m\u001b[1m)\u001b[0m\u001b[1m]\u001b[0m\u001b[1m)\u001b[0m, \u001b[3;92mTrue\u001b[0m\u001b[1m)\u001b[0m, \u001b[1;35mStructField\u001b[0m\u001b[1m(\u001b[0m\u001b[32m'user_id'\u001b[0m, \u001b[1;35mLongType\u001b[0m\u001b[1m(\u001b[0m\u001b[1m)\u001b[0m, \u001b[3;92mTrue\u001b[0m\u001b[1m)\u001b[0m\u001b[1m]\u001b[0m\u001b[1m)\u001b[0m"
      ]
     },
     "execution_count": 82,
     "metadata": {},
     "output_type": "execute_result"
    }
   ],
   "source": [
    "prints.schema"
   ]
  },
  {
   "cell_type": "code",
   "execution_count": 87,
   "id": "25b36ac3-3431-40d2-a2c3-90887992da43",
   "metadata": {},
   "outputs": [],
   "source": [
    "df_prints = prints.select(\"day\", \"event_data.*\", \"user_id\")"
   ]
  },
  {
   "cell_type": "code",
   "execution_count": 66,
   "id": "82ff37e9-ed42-46c6-bf15-844c09babbac",
   "metadata": {},
   "outputs": [
    {
     "name": "stdout",
     "output_type": "stream",
     "text": [
      "+----------+--------+------------------+-------+\n",
      "|       day|position|        value_prop|user_id|\n",
      "+----------+--------+------------------+-------+\n",
      "|2020-11-01|       0|cellphone_recharge|  98702|\n",
      "|2020-11-01|       1|           prepaid|  98702|\n",
      "|2020-11-01|       0|           prepaid|  63252|\n",
      "|2020-11-01|       0|cellphone_recharge|  24728|\n",
      "|2020-11-01|       1|        link_cobro|  24728|\n",
      "|2020-11-01|       2|  credits_consumer|  24728|\n",
      "|2020-11-01|       3|             point|  24728|\n",
      "|2020-11-01|       0|             point|  25517|\n",
      "|2020-11-01|       1|  credits_consumer|  25517|\n",
      "|2020-11-01|       2|         transport|  25517|\n",
      "|2020-11-01|       0|             point|  57587|\n",
      "|2020-11-01|       0|         transport|  13609|\n",
      "|2020-11-01|       0|cellphone_recharge|   3708|\n",
      "|2020-11-01|       1|           prepaid|   3708|\n",
      "|2020-11-01|       2|             point|   3708|\n",
      "|2020-11-01|       3|        send_money|   3708|\n",
      "|2020-11-01|       0|        send_money|  99571|\n",
      "|2020-11-01|       1|             point|  99571|\n",
      "|2020-11-01|       2|        link_cobro|  99571|\n",
      "|2020-11-01|       0|           prepaid|  53823|\n",
      "+----------+--------+------------------+-------+\n",
      "only showing top 20 rows\n",
      "\n"
     ]
    }
   ],
   "source": [
    "df_prints.show()"
   ]
  },
  {
   "cell_type": "code",
   "execution_count": 68,
   "id": "74f4d707-3c29-4cf4-baa2-db50808e9193",
   "metadata": {},
   "outputs": [
    {
     "data": {
      "text/html": [
       "<pre style=\"white-space:pre;overflow-x:auto;line-height:normal;font-family:Menlo,'DejaVu Sans Mono',consolas,'Courier New',monospace\"></pre>\n"
      ],
      "text/plain": []
     },
     "metadata": {},
     "output_type": "display_data"
    },
    {
     "data": {
      "text/plain": [
       "\u001b[1;35mStructType\u001b[0m\u001b[1m(\u001b[0m\u001b[1m[\u001b[0m\u001b[1;35mStructField\u001b[0m\u001b[1m(\u001b[0m\u001b[32m'day'\u001b[0m, \u001b[1;35mStringType\u001b[0m\u001b[1m(\u001b[0m\u001b[1m)\u001b[0m, \u001b[3;92mTrue\u001b[0m\u001b[1m)\u001b[0m, \u001b[1;35mStructField\u001b[0m\u001b[1m(\u001b[0m\u001b[32m'position'\u001b[0m, \u001b[1;35mLongType\u001b[0m\u001b[1m(\u001b[0m\u001b[1m)\u001b[0m, \u001b[3;92mTrue\u001b[0m\u001b[1m)\u001b[0m, \u001b[1;35mStructField\u001b[0m\u001b[1m(\u001b[0m\u001b[32m'value_prop'\u001b[0m, \u001b[1;35mStringType\u001b[0m\u001b[1m(\u001b[0m\u001b[1m)\u001b[0m, \u001b[3;92mTrue\u001b[0m\u001b[1m)\u001b[0m, \u001b[1;35mStructField\u001b[0m\u001b[1m(\u001b[0m\u001b[32m'user_id'\u001b[0m, \u001b[1;35mLongType\u001b[0m\u001b[1m(\u001b[0m\u001b[1m)\u001b[0m, \u001b[3;92mTrue\u001b[0m\u001b[1m)\u001b[0m\u001b[1m]\u001b[0m\u001b[1m)\u001b[0m"
      ]
     },
     "execution_count": 68,
     "metadata": {},
     "output_type": "execute_result"
    }
   ],
   "source": [
    "df_prints.schema"
   ]
  }
 ],
 "metadata": {
  "kernelspec": {
   "display_name": "Kedro (meli)",
   "language": "python",
   "name": "kedro_meli"
  },
  "language_info": {
   "codemirror_mode": {
    "name": "ipython",
    "version": 3
   },
   "file_extension": ".py",
   "mimetype": "text/x-python",
   "name": "python",
   "nbconvert_exporter": "python",
   "pygments_lexer": "ipython3",
   "version": "3.10.14"
  }
 },
 "nbformat": 4,
 "nbformat_minor": 5
}
